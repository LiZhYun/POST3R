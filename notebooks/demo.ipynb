{
 "cells": [
  {
   "cell_type": "markdown",
   "id": "82f739ed",
   "metadata": {},
   "source": [
    "# POST3R Demo\n",
    "\n",
    "This notebook demonstrates POST3R inference on sample videos."
   ]
  },
  {
   "cell_type": "code",
   "execution_count": null,
   "id": "99d0085a",
   "metadata": {},
   "outputs": [],
   "source": [
    "import torch\n",
    "from post3r import POST3R\n",
    "\n",
    "# TODO: Add demo code"
   ]
  }
 ],
 "metadata": {
  "language_info": {
   "name": "python"
  }
 },
 "nbformat": 4,
 "nbformat_minor": 5
}
